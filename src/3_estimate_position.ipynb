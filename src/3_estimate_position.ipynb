{
 "cells": [
  {
   "cell_type": "markdown",
   "id": "62477dd7-95f6-4f82-b8bd-b6c76479daa4",
   "metadata": {},
   "source": [
    "# Estimate position"
   ]
  },
  {
   "cell_type": "markdown",
   "id": "9d37f911-17cf-479c-914b-e9a22f77b536",
   "metadata": {},
   "source": [
    "## Imports and definitions"
   ]
  },
  {
   "cell_type": "code",
   "execution_count": 3,
   "id": "8803b184-df02-4ee5-a5eb-fdcae61e67bf",
   "metadata": {},
   "outputs": [],
   "source": [
    "import numpy as np\n",
    "import matplotlib.pyplot as plt\n",
    "import cv2"
   ]
  },
  {
   "cell_type": "code",
   "execution_count": null,
   "id": "b73e4dd9-1a47-4eef-8700-19c580764c67",
   "metadata": {},
   "outputs": [],
   "source": []
  }
 ],
 "metadata": {
  "kernelspec": {
   "display_name": "Python 3 (ipykernel)",
   "language": "python",
   "name": "python3"
  },
  "language_info": {
   "codemirror_mode": {
    "name": "ipython",
    "version": 3
   },
   "file_extension": ".py",
   "mimetype": "text/x-python",
   "name": "python",
   "nbconvert_exporter": "python",
   "pygments_lexer": "ipython3",
   "version": "3.12.2"
  }
 },
 "nbformat": 4,
 "nbformat_minor": 5
}
