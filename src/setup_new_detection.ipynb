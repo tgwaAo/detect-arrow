{
 "cells": [
  {
   "cell_type": "code",
   "execution_count": 2,
   "id": "992d249e-69f3-4423-9f54-b7dcc2a06568",
   "metadata": {
    "tags": []
   },
   "outputs": [],
   "source": [
    "import numpy as np\n",
    "import matplotlib.pyplot as plt\n",
    "%matplotlib inline\n",
    "#from sklearn.preprocessing import Normalizer\n",
    "import cv2"
   ]
  },
  {
   "cell_type": "code",
   "execution_count": 13,
   "id": "1cbb776c-6bf0-4e90-bcc2-5d4dcbe1cc61",
   "metadata": {
    "tags": []
   },
   "outputs": [],
   "source": [
    "norm_angles = angles / 360"
   ]
  },
  {
   "cell_type": "markdown",
   "id": "a0dafcbd-3f1f-49be-a996-89d4e569b7f3",
   "metadata": {},
   "source": [
    "# extract from file"
   ]
  },
  {
   "cell_type": "code",
   "execution_count": 70,
   "id": "a796ba66-a759-4d39-8479-52ccd6e93542",
   "metadata": {
    "tags": []
   },
   "outputs": [
    {
     "name": "stdout",
     "output_type": "stream",
     "text": [
      "5\n",
      "4\n",
      "1\n",
      "9\n",
      "1\n",
      "5\n",
      "6\n",
      "6\n",
      "6\n",
      "5\n",
      "6\n",
      "7\n",
      "4\n",
      "8\n",
      "7\n",
      "6\n",
      "6\n",
      "4\n",
      "6\n",
      "1\n",
      "4\n",
      "6\n",
      "5\n",
      "#######\n",
      "4\n"
     ]
    }
   ],
   "source": [
    "img = cv2.imread('/home/me/Programmierung/AI_Test/find_arrow_symbol/detect_arrow/50_cm.jpg')\n",
    "blurred = cv2.blur(img, (3,3))\n",
    "gray = cv2.cvtColor(blurred, cv2.COLOR_BGR2GRAY)\n",
    "retval, bw_img = cv2.threshold(gray, 100, 255, cv2.THRESH_BINARY)\n",
    "cnts, _ = cv2.findContours(bw_img, cv2.RETR_TREE, cv2.CHAIN_APPROX_NONE)  # arrow seems to be internal\n",
    "\n",
    "point_list = []\n",
    "\n",
    "for num, contour in enumerate(cnts):\n",
    "    M = cv2.moments(contour)\n",
    "    if (M[\"m00\"] != 0):\n",
    "        x_c = int(M[\"m10\"] / M[\"m00\"])\n",
    "        y_c = int(M[\"m01\"] / M[\"m00\"])\n",
    "    else:\n",
    "        x_c = -1\n",
    "        y_c = -1\n",
    "    retval = cv2.arcLength(contour, True)\n",
    "    points = cv2.approxPolyDP(contour, 0.04 * retval, True)\n",
    "    print(len(points))\n",
    "    if len(points) == 5:\n",
    "        point_list.append(points.reshape((5,2)))\n",
    "        \n",
    "    #return (points, x_c, y_c)\n",
    "print('#######')\n",
    "print(len(point_list))\n"
   ]
  },
  {
   "cell_type": "code",
   "execution_count": 50,
   "id": "b668c1a3-08e0-4fd4-89b0-4d16835ca215",
   "metadata": {
    "tags": []
   },
   "outputs": [],
   "source": [
    "for num in range(len(point_list)):\n",
    "    if len(point_list[num]) == 5:\n",
    "        img2 = np.zeros((480, 640,3))\n",
    "        cv2.drawContours(img2, cnts, num, (0,0,255), thickness=10)\n",
    "        #cv2.imshow('orig', img)\n",
    "        cv2.imshow('test', img2)\n",
    "        cv2.waitKey(0)\n",
    "cv2.destroyAllWindows()"
   ]
  },
  {
   "cell_type": "code",
   "execution_count": 95,
   "id": "6e5b9f58-2738-48ff-af1c-f8fe965905df",
   "metadata": {
    "tags": []
   },
   "outputs": [],
   "source": [
    "arr = np.array(point_list)\n",
    "np.save('test', arr)\n"
   ]
  },
  {
   "cell_type": "code",
   "execution_count": 97,
   "id": "23381b92-22c0-4e86-8105-2596f3d2f2f3",
   "metadata": {
    "tags": []
   },
   "outputs": [],
   "source": [
    "arr2 = np.load('test.npy')"
   ]
  },
  {
   "cell_type": "code",
   "execution_count": 98,
   "id": "bfeb5b90-7739-48fa-a16d-7ae7d011ff31",
   "metadata": {
    "tags": []
   },
   "outputs": [
    {
     "data": {
      "text/plain": [
       "(4, 5, 2)"
      ]
     },
     "execution_count": 98,
     "metadata": {},
     "output_type": "execute_result"
    }
   ],
   "source": [
    "arr.shape"
   ]
  },
  {
   "cell_type": "code",
   "execution_count": 99,
   "id": "2ee41486-cebf-43c3-aa38-9ad847fd2116",
   "metadata": {
    "tags": []
   },
   "outputs": [
    {
     "data": {
      "text/plain": [
       "(4, 5, 2)"
      ]
     },
     "execution_count": 99,
     "metadata": {},
     "output_type": "execute_result"
    }
   ],
   "source": [
    "arr2.shape"
   ]
  },
  {
   "cell_type": "markdown",
   "id": "c6b00f9a-39f1-4d9d-912b-3ec50146847a",
   "metadata": {},
   "source": [
    "# extract from video for the first time"
   ]
  },
  {
   "cell_type": "code",
   "execution_count": 3,
   "id": "f8ee939c-014a-4246-9433-e962304441eb",
   "metadata": {
    "tags": []
   },
   "outputs": [],
   "source": [
    "video_path = '/home/me/Videos/Kamera/2023-09-01-163208.webm'"
   ]
  },
  {
   "cell_type": "code",
   "execution_count": 93,
   "id": "4898d8ff-b605-4886-a10b-d89ec33c6b97",
   "metadata": {
    "tags": []
   },
   "outputs": [],
   "source": [
    "def extract_good_values(frame):\n",
    "    blurred = cv2.blur(frame, (3,3))\n",
    "    gray = cv2.cvtColor(blurred, cv2.COLOR_BGR2GRAY)\n",
    "    retval, bw_img = cv2.threshold(gray, 100, 255, cv2.THRESH_BINARY)\n",
    "    \n",
    "    #import pdb\n",
    "    #pdb.set_trace()\n",
    "    \n",
    "    cnts, _ = cv2.findContours(bw_img, cv2.RETR_TREE, cv2.CHAIN_APPROX_NONE)\n",
    "    \n",
    "    point_list = []\n",
    "    \n",
    "    for num, contour in enumerate(cnts):\n",
    "        #print(contour)\n",
    "        M = cv2.moments(contour)\n",
    "        if (M[\"m00\"] != 0):\n",
    "            x_c = int(M[\"m10\"] / M[\"m00\"])\n",
    "            y_c = int(M[\"m01\"] / M[\"m00\"])\n",
    "        else:\n",
    "            x_c = -1\n",
    "            y_c = -1\n",
    "        retval = cv2.arcLength(contour, True)\n",
    "        points = cv2.approxPolyDP(contour, 0.04 * retval, True)\n",
    "        if len(points) == 5:\n",
    "            point_list.append(points.reshape((5,2)))\n",
    "\n",
    "        \n",
    "    return point_list\n",
    "        \n",
    "        \n",
    "        "
   ]
  },
  {
   "cell_type": "code",
   "execution_count": 11,
   "id": "800c3593-eaa2-42b6-96cd-71837a8d3258",
   "metadata": {
    "tags": []
   },
   "outputs": [
    {
     "name": "stdout",
     "output_type": "stream",
     "text": [
      "done\n"
     ]
    }
   ],
   "source": [
    "found_shapes_raw = []\n",
    "wrong_shapes_raw = []\n",
    "\n",
    "cap = cv2.VideoCapture(video_path)\n",
    "\n",
    "if not cap.isOpened():\n",
    "    cap.release()\n",
    "    raise SystemExit()\n",
    "    \n",
    "frameRate = cap.get(5) #frame rate\n",
    "abort = False\n",
    "\n",
    "while cap.isOpened():\n",
    "    frameId = cap.get(1) #current frame number\n",
    "    ret, frame = cap.read()\n",
    "    if ret == True:\n",
    " \n",
    "        # Display the resulting frame\n",
    "        cv2.imshow('Frame',frame)\n",
    " \n",
    "        key = cv2.waitKey(25) & 0xFF\n",
    "    \n",
    "        # Press Q on keyboard to  exit\n",
    "        if key == ord('q') or abort:\n",
    "            break\n",
    "        elif frameId % np.floor(frameRate) == 0:\n",
    "            try:\n",
    "                values = extract_good_values(frame)\n",
    "            except:\n",
    "                print('an error occurred')\n",
    "                raise SystemExit()\n",
    "                \n",
    "            for num, features in enumerate(values):\n",
    "                con_frame = frame.copy()\n",
    "                cv2.drawContours(con_frame, values, num, (0,0,255), thickness=10)\n",
    "                cv2.imshow('Frame',con_frame)\n",
    "                key = cv2.waitKey(0) & 0xFF\n",
    "                if key == ord('n'):\n",
    "                    wrong_shapes_raw.append(features)\n",
    "                elif key == ord('y'):\n",
    "                    found_shapes_raw.append(features)\n",
    "                elif key == ord('q'):\n",
    "                    abort = True\n",
    "                    break\n",
    "                    \n",
    "                \n",
    "    # Break the loop\n",
    "    else: \n",
    "        break\n",
    " \n",
    "# When everything done, release the video capture object\n",
    "cap.release()\n",
    " \n",
    "# Closes all the frames\n",
    "cv2.destroyAllWindows()\n",
    "\n",
    "good_values = np.array(found_shapes_raw)\n",
    "bad_values = np.array(wrong_shapes_raw)\n",
    "np.save('good_values', good_values)\n",
    "np.save('bad_values', bad_values)\n",
    "print('done')\n"
   ]
  },
  {
   "cell_type": "code",
   "execution_count": 8,
   "id": "0687c61e-954b-4aa5-af42-8d850bf9665c",
   "metadata": {
    "tags": []
   },
   "outputs": [],
   "source": [
    "cv2.destroyAllWindows()\n",
    "cap.release()"
   ]
  },
  {
   "cell_type": "code",
   "execution_count": 12,
   "id": "e7e9a5bd-dfb6-40ef-bca8-0cc3eb31fe3c",
   "metadata": {
    "tags": []
   },
   "outputs": [
    {
     "data": {
      "text/plain": [
       "False"
      ]
     },
     "execution_count": 12,
     "metadata": {},
     "output_type": "execute_result"
    }
   ],
   "source": [
    "cap.isOpened()"
   ]
  },
  {
   "cell_type": "code",
   "execution_count": 13,
   "id": "a0a28ddd-f716-4e96-a872-19f37e92a004",
   "metadata": {
    "tags": []
   },
   "outputs": [],
   "source": [
    "loaded_good_values = np.load('good_values.npy')"
   ]
  },
  {
   "cell_type": "code",
   "execution_count": 14,
   "id": "c9ae3828-6765-486b-aee6-afb7537c1aad",
   "metadata": {
    "tags": []
   },
   "outputs": [
    {
     "data": {
      "text/plain": [
       "(121, 5, 2)"
      ]
     },
     "execution_count": 14,
     "metadata": {},
     "output_type": "execute_result"
    }
   ],
   "source": [
    "loaded_good_values.shape"
   ]
  },
  {
   "cell_type": "markdown",
   "id": "6c70efd8-8998-441c-b5fe-889de43786b6",
   "metadata": {},
   "source": [
    "# minAreaRect, transform, scaling, ..."
   ]
  },
  {
   "cell_type": "markdown",
   "id": "6454e19d-8e2d-49fe-9dae-1c3e1eb1037f",
   "metadata": {
    "tags": []
   },
   "source": [
    "## get better shape data"
   ]
  },
  {
   "cell_type": "code",
   "execution_count": 11,
   "id": "e1b0a44d-63ce-4c5b-9ad8-dec43f5a20ce",
   "metadata": {
    "tags": []
   },
   "outputs": [],
   "source": [
    "shape_reference = np.load('shape_reference.npy')"
   ]
  },
  {
   "cell_type": "code",
   "execution_count": 12,
   "id": "8981b93a-e498-42b5-8331-190dce067b4a",
   "metadata": {
    "tags": []
   },
   "outputs": [],
   "source": [
    "M = cv2.moments(shape_reference)\n",
    "x_c = int(M[\"m10\"] / M[\"m00\"])\n",
    "y_c = int(M[\"m01\"] / M[\"m00\"])\n",
    "retval = cv2.arcLength(shape_reference, True)\n",
    "points = cv2.approxPolyDP(shape_reference, 0.04 * retval, True)"
   ]
  },
  {
   "cell_type": "code",
   "execution_count": 13,
   "id": "93a62d18-fa59-4549-8e51-1b70e1c754c0",
   "metadata": {
    "tags": []
   },
   "outputs": [
    {
     "data": {
      "text/plain": [
       "302"
      ]
     },
     "execution_count": 13,
     "metadata": {},
     "output_type": "execute_result"
    }
   ],
   "source": [
    "x_c"
   ]
  },
  {
   "cell_type": "code",
   "execution_count": 14,
   "id": "a01aacc9-9cd8-4032-be2f-751f117abcc7",
   "metadata": {
    "tags": []
   },
   "outputs": [
    {
     "data": {
      "text/plain": [
       "223"
      ]
     },
     "execution_count": 14,
     "metadata": {},
     "output_type": "execute_result"
    }
   ],
   "source": [
    "y_c"
   ]
  },
  {
   "cell_type": "code",
   "execution_count": 15,
   "id": "12f900ce-7be2-4ed4-b7e7-fb5105fc5c05",
   "metadata": {
    "tags": []
   },
   "outputs": [],
   "source": [
    "M = cv2.moments(points)\n",
    "xp_c = int(M['m10'] / M['m00'])\n",
    "yp_c = int(M['m01'] / M['m00'])\n",
    "\n"
   ]
  },
  {
   "cell_type": "code",
   "execution_count": 16,
   "id": "439544cf-226b-43f3-8c1b-94496910e8b2",
   "metadata": {
    "tags": []
   },
   "outputs": [
    {
     "data": {
      "text/plain": [
       "302"
      ]
     },
     "execution_count": 16,
     "metadata": {},
     "output_type": "execute_result"
    }
   ],
   "source": [
    "xp_c"
   ]
  },
  {
   "cell_type": "code",
   "execution_count": 17,
   "id": "a9069b65-733b-45cd-8a83-737c1620f2a7",
   "metadata": {
    "tags": []
   },
   "outputs": [
    {
     "data": {
      "text/plain": [
       "220"
      ]
     },
     "execution_count": 17,
     "metadata": {},
     "output_type": "execute_result"
    }
   ],
   "source": [
    "yp_c"
   ]
  },
  {
   "cell_type": "code",
   "execution_count": null,
   "id": "9cb6ae5e-68f4-4138-83a4-9e982c3ab489",
   "metadata": {},
   "outputs": [],
   "source": []
  },
  {
   "cell_type": "code",
   "execution_count": 24,
   "id": "d999c7da-0132-4016-9d71-7e15394a84a9",
   "metadata": {
    "tags": []
   },
   "outputs": [],
   "source": [
    "np.save('shape_reference_points', points)"
   ]
  },
  {
   "cell_type": "code",
   "execution_count": 10,
   "id": "0643ed5b-e18a-45b9-aabd-cf2e991709d7",
   "metadata": {
    "tags": []
   },
   "outputs": [],
   "source": [
    "points = np.load('shape_reference_points.npy')"
   ]
  },
  {
   "cell_type": "code",
   "execution_count": 11,
   "id": "83c3b8f2-c183-4840-8545-decff51d6ec8",
   "metadata": {
    "tags": []
   },
   "outputs": [],
   "source": [
    "reference_rect = cv2.minAreaRect(points)\n",
    "# x,y,w,h = cv.boundingRect(cnt)\n",
    "# center (x,y), (width, height), angle of rotation ( 90 degree is up), negative values possible\n",
    "# center (x,y), (width, height), angle of rotation ( 90 degree is up), negative values possible\n",
    "ref_box = cv2.boxPoints(reference_rect)\n",
    "ref_box = np.intp(ref_box)"
   ]
  },
  {
   "cell_type": "code",
   "execution_count": 23,
   "id": "db25d74a-6695-40de-963c-737c00654863",
   "metadata": {
    "tags": []
   },
   "outputs": [
    {
     "data": {
      "text/plain": [
       "((291.92498779296875, 218.60198974609375),\n",
       " (135.26010131835938, 409.2398376464844),\n",
       " 6.668918609619141)"
      ]
     },
     "execution_count": 23,
     "metadata": {},
     "output_type": "execute_result"
    }
   ],
   "source": [
    "reference_rect"
   ]
  },
  {
   "cell_type": "code",
   "execution_count": 24,
   "id": "839b493e-4b7f-4fc5-b782-163f1b9da5cd",
   "metadata": {
    "tags": []
   },
   "outputs": [],
   "source": [
    "black = np.zeros((480, 640, 4))\n",
    "cv2.drawContours(black, points, -1, (255, 0, 0), thickness=10)\n",
    "cv2.drawContours(black, [ref_box], -1, (0, 0, 255), thickness=5)\n",
    "cv2.imshow('shape_reference', black)\n",
    "cv2.waitKey(0)\n",
    "cv2.destroyAllWindows()"
   ]
  },
  {
   "cell_type": "code",
   "execution_count": 26,
   "id": "f7850de4-3e67-46c8-bd31-ae07903aa4c5",
   "metadata": {
    "tags": []
   },
   "outputs": [],
   "source": [
    "np.save('shape_reference_width_and_height', reference_rect[1])"
   ]
  },
  {
   "cell_type": "code",
   "execution_count": 27,
   "id": "2ba5d967-1821-4dc3-9874-3b73f7520cf4",
   "metadata": {
    "tags": []
   },
   "outputs": [],
   "source": [
    "ref_width, ref_height = np.load('shape_reference_width_and_height.npy')"
   ]
  },
  {
   "cell_type": "code",
   "execution_count": 28,
   "id": "944b1b26-d4d5-43db-80ab-ece888d9871a",
   "metadata": {
    "tags": []
   },
   "outputs": [
    {
     "data": {
      "text/plain": [
       "135.26010131835938"
      ]
     },
     "execution_count": 28,
     "metadata": {},
     "output_type": "execute_result"
    }
   ],
   "source": [
    "ref_width"
   ]
  },
  {
   "cell_type": "code",
   "execution_count": 29,
   "id": "8a68e61a-9e23-40d7-a9fa-ee1bbeac9b57",
   "metadata": {},
   "outputs": [
    {
     "data": {
      "text/plain": [
       "409.2398376464844"
      ]
     },
     "execution_count": 29,
     "metadata": {},
     "output_type": "execute_result"
    }
   ],
   "source": [
    "ref_height"
   ]
  },
  {
   "cell_type": "markdown",
   "id": "9058b7bc-c4c7-4de7-bc33-2f78c20ccda2",
   "metadata": {},
   "source": [
    "## example"
   ]
  },
  {
   "cell_type": "code",
   "execution_count": 2,
   "id": "48691f96-72d4-428b-b5fc-e0db2471f6c2",
   "metadata": {
    "tags": []
   },
   "outputs": [],
   "source": [
    "import numpy as np\n",
    "import matplotlib.pyplot as plt\n",
    "%matplotlib inline\n",
    "#from sklearn.preprocessing import Normalizer\n",
    "import cv2"
   ]
  },
  {
   "cell_type": "code",
   "execution_count": 2,
   "id": "1844109c-e337-4bbe-8dfe-73b7c15e66ba",
   "metadata": {
    "tags": []
   },
   "outputs": [],
   "source": [
    "loaded_good_values = np.load('good_values.npy')"
   ]
  },
  {
   "cell_type": "code",
   "execution_count": 3,
   "id": "7a535c4c-503f-46f8-b1a1-986b9d81e6e8",
   "metadata": {},
   "outputs": [],
   "source": [
    "good_raw_features = loaded_good_values[0] "
   ]
  },
  {
   "cell_type": "code",
   "execution_count": 4,
   "id": "0c9bbe99-2f03-42f2-a1ce-6cd1c6725817",
   "metadata": {},
   "outputs": [
    {
     "data": {
      "text/plain": [
       "array([[266, 139],\n",
       "       [322, 135],\n",
       "       [386, 361],\n",
       "       [339, 451],\n",
       "       [269, 380]], dtype=int32)"
      ]
     },
     "execution_count": 4,
     "metadata": {},
     "output_type": "execute_result"
    }
   ],
   "source": [
    "good_raw_features"
   ]
  },
  {
   "cell_type": "code",
   "execution_count": 5,
   "id": "cffbcadc-7dee-4072-982e-700b11134e9b",
   "metadata": {},
   "outputs": [
    {
     "data": {
      "text/plain": [
       "((326.535888671875, 293.0493469238281),\n",
       " (316.1871337890625, 117.22742462158203),\n",
       " 89.28681945800781)"
      ]
     },
     "execution_count": 5,
     "metadata": {},
     "output_type": "execute_result"
    }
   ],
   "source": [
    "min_rect = cv2.minAreaRect(good_raw_features)\n",
    "# center (x,y), (width, height), angle of rotation ( 90 degree is up, clockwise), negative values possible\n",
    "min_rect"
   ]
  },
  {
   "cell_type": "code",
   "execution_count": 9,
   "id": "4f9b2ab7-bdfc-4edf-a7a8-01c25271ca11",
   "metadata": {
    "tags": []
   },
   "outputs": [],
   "source": [
    "box = cv2.boxPoints(min_rect)\n",
    "box = np.intp(box)"
   ]
  },
  {
   "cell_type": "code",
   "execution_count": 7,
   "id": "983c596f-1eec-45c9-a1ba-0214ab6b5b16",
   "metadata": {
    "tags": []
   },
   "outputs": [],
   "source": [
    "test_rect = (*min_rect[:2], 45)\n",
    "box = cv2.boxPoints(test_rect)\n",
    "box = np.intp(box)"
   ]
  },
  {
   "cell_type": "code",
   "execution_count": 10,
   "id": "50dd8c98-77fe-4d0f-9db2-d822757da909",
   "metadata": {
    "tags": []
   },
   "outputs": [],
   "source": [
    "black = np.zeros((480, 640, 4))\n",
    "cv2.drawContours(black, [good_raw_features], -1, (255, 0, 0), thickness=5)\n",
    "cv2.drawContours(black,[box],0,(0,0,255),2)\n",
    "cv2.imshow('example', black)\n",
    "cv2.waitKey(0)\n",
    "cv2.destroyAllWindows()"
   ]
  },
  {
   "cell_type": "code",
   "execution_count": 92,
   "id": "73213e76-3481-4ff9-885f-a00f188ba349",
   "metadata": {},
   "outputs": [],
   "source": [
    "def ranges_and_angles(shape):\n",
    "    min_rect = cv2.minAreaRect(shape)\n",
    "    length_reference = np.max(min_rect[1])\n",
    "    \n",
    "    M = cv2.moments(shape)\n",
    "    x_c = int(M['m10'] / M['m00'])\n",
    "    y_c = int(M['m01'] / M['m00'])\n",
    "    \n",
    "    ranges = np.zeros(len(shape))\n",
    "    angles = np.zeros(len(shape))\n",
    "    \n",
    "    for pos in range(len(shape)):\n",
    "        next_pos = (pos + 1) % len(shape)\n",
    "        \n",
    "        d_x_current = shape[pos][0] - x_c\n",
    "        d_y_current = shape[pos][1] - y_c\n",
    "        \n",
    "        d_x_next = shape[next_pos][0] - x_c\n",
    "        d_y_next = shape[next_pos][1] - y_c\n",
    "        \n",
    "        norm_range = np.sqrt(np.power(d_x_current, 2) + np.power(d_y_current, 2)) / length_reference\n",
    "        \n",
    "        first_abs_angle = np.angle(d_x_current + d_y_current * 1j, deg=True)\n",
    "        second_abs_angle = np.angle(d_x_next + d_y_next * 1j, deg=True)\n",
    "        delta_angle = second_abs_angle - first_abs_angle\n",
    "        \n",
    "        if delta_angle < 0:\n",
    "            delta_angle += 360\n",
    "            \n",
    "        norm_delta_angle = delta_angle / 360\n",
    "        \n",
    "        ranges[pos] = norm_range\n",
    "        angles[pos] = norm_delta_angle\n",
    "\n",
    "    return ranges, angles"
   ]
  },
  {
   "cell_type": "code",
   "execution_count": 31,
   "id": "05319779-6b72-493a-91c2-469879c762cc",
   "metadata": {},
   "outputs": [
    {
     "name": "stdout",
     "output_type": "stream",
     "text": [
      "[0.50907425 0.49690386 0.31086143 0.50810072 0.3155243 ]\n",
      "[0.05634955 0.36777562 0.10328116 0.10093679 0.37165687]\n"
     ]
    },
    {
     "data": {
      "text/plain": [
       "array([0.50907425, 0.49690386, 0.31086143, 0.50810072, 0.3155243 ,\n",
       "       0.05634955, 0.36777562, 0.10328116, 0.10093679, 0.37165687])"
      ]
     },
     "execution_count": 31,
     "metadata": {},
     "output_type": "execute_result"
    }
   ],
   "source": [
    "ranges, angles = ranges_and_angles(good_raw_features)\n",
    "print(ranges)\n",
    "print(angles)\n",
    "result = np.hstack((ranges, angles))\n",
    "result"
   ]
  },
  {
   "cell_type": "code",
   "execution_count": 33,
   "id": "fd482a56-17f4-48b6-861f-a2d861e7c288",
   "metadata": {},
   "outputs": [],
   "source": [
    "# create normalized values\n",
    "good_norm_values = np.zeros((loaded_good_values.shape[0], loaded_good_values.shape[1] * 2))\n",
    "for pos, contour in enumerate(loaded_good_values):\n",
    "    ranges, angles = ranges_and_angles(contour)\n",
    "    result = np.hstack((ranges, angles))\n",
    "    good_norm_values[pos][:] = result"
   ]
  },
  {
   "cell_type": "code",
   "execution_count": 34,
   "id": "73e45719-2ae0-4f27-b3d7-256e53c98c41",
   "metadata": {
    "tags": []
   },
   "outputs": [
    {
     "data": {
      "text/plain": [
       "array([[0.50907425, 0.49690386, 0.31086143, ..., 0.10328116, 0.10093679,\n",
       "        0.37165687],\n",
       "       [0.51273755, 0.50441431, 0.31878568, ..., 0.10230687, 0.10389935,\n",
       "        0.37489062],\n",
       "       [0.51870891, 0.50875674, 0.31551754, ..., 0.09345938, 0.09968176,\n",
       "        0.38334469],\n",
       "       ...,\n",
       "       [0.53008605, 0.33005411, 0.4961722 , ..., 0.09001262, 0.38104096,\n",
       "        0.04348312],\n",
       "       [0.52081843, 0.49040569, 0.32581401, ..., 0.08971785, 0.0979132 ,\n",
       "        0.38013225],\n",
       "       [0.51614876, 0.49296604, 0.31046361, ..., 0.10313591, 0.10619184,\n",
       "        0.3684691 ]])"
      ]
     },
     "execution_count": 34,
     "metadata": {},
     "output_type": "execute_result"
    }
   ],
   "source": [
    "good_norm_values"
   ]
  },
  {
   "cell_type": "code",
   "execution_count": 35,
   "id": "099d7c47-9365-419a-bcf3-e6b253a3181f",
   "metadata": {
    "tags": []
   },
   "outputs": [
    {
     "data": {
      "text/plain": [
       "(121, 10)"
      ]
     },
     "execution_count": 35,
     "metadata": {},
     "output_type": "execute_result"
    }
   ],
   "source": [
    "good_norm_values.shape"
   ]
  },
  {
   "cell_type": "code",
   "execution_count": 36,
   "id": "19f57096-8df8-4689-94a0-bf9a6a470cc0",
   "metadata": {},
   "outputs": [],
   "source": [
    "np.save('good_norm_values', good_norm_values)"
   ]
  },
  {
   "cell_type": "code",
   "execution_count": 3,
   "id": "2f9a9ce8-55be-4691-abad-434b918e6ddc",
   "metadata": {},
   "outputs": [],
   "source": [
    "loaded_good_norm_values = np.load('good_norm_values.npy')"
   ]
  },
  {
   "cell_type": "code",
   "execution_count": 40,
   "id": "d3633634-91b8-4ebe-98d8-82693088de1a",
   "metadata": {
    "tags": []
   },
   "outputs": [],
   "source": [
    "loaded_bad_values = np.load('bad_values.npy')"
   ]
  },
  {
   "cell_type": "code",
   "execution_count": 41,
   "id": "4868add1-3199-4219-93f9-3dc9f2e6b2f6",
   "metadata": {},
   "outputs": [],
   "source": [
    "# create normalized values\n",
    "bad_norm_values = np.zeros((loaded_bad_values.shape[0], loaded_bad_values.shape[1] * 2))\n",
    "for pos, contour in enumerate(loaded_bad_values):\n",
    "    ranges, angles = ranges_and_angles(contour)\n",
    "    result = np.hstack((ranges, angles))\n",
    "    bad_norm_values[pos][:] = result"
   ]
  },
  {
   "cell_type": "code",
   "execution_count": 42,
   "id": "05d60392-e671-411c-8561-1d836e9f6317",
   "metadata": {},
   "outputs": [
    {
     "data": {
      "text/plain": [
       "array([[0.65446119, 0.34493133, 0.37150241, ..., 0.11564872, 0.39758362,\n",
       "        0.97741638],\n",
       "       [0.5       , 0.5       , 0.5       , ..., 0.        , 0.875     ,\n",
       "        0.875     ],\n",
       "       [0.48892552, 0.13560354, 0.60643747, ..., 0.80120819, 0.92620819,\n",
       "        0.85520829],\n",
       "       ...,\n",
       "       [0.56819628, 0.35140632, 0.45109473, ..., 0.90892397, 0.84016136,\n",
       "        0.71162686],\n",
       "       [0.53571791, 0.3659078 , 0.18105617, ..., 0.70873695, 0.78059751,\n",
       "        0.71747682],\n",
       "       [0.50026382, 0.66616597, 0.10936423, ..., 0.26371028, 0.85927884,\n",
       "        0.63157063]])"
      ]
     },
     "execution_count": 42,
     "metadata": {},
     "output_type": "execute_result"
    }
   ],
   "source": [
    "bad_norm_values"
   ]
  },
  {
   "cell_type": "code",
   "execution_count": 44,
   "id": "18183bc2-aaaa-4092-a3b0-25be89fdd283",
   "metadata": {},
   "outputs": [
    {
     "data": {
      "text/plain": [
       "(306, 10)"
      ]
     },
     "execution_count": 44,
     "metadata": {},
     "output_type": "execute_result"
    }
   ],
   "source": [
    "bad_norm_values.shape"
   ]
  },
  {
   "cell_type": "code",
   "execution_count": 45,
   "id": "f55b1cc4-8f12-4edf-b881-9da0229c0185",
   "metadata": {},
   "outputs": [],
   "source": [
    "np.save('bad_norm_values', bad_norm_values)"
   ]
  },
  {
   "cell_type": "code",
   "execution_count": 4,
   "id": "eac562ea-29e0-454b-b7be-1d869209a0b7",
   "metadata": {
    "tags": []
   },
   "outputs": [],
   "source": [
    "loaded_bad_norm_values = np.load('bad_norm_values.npy')"
   ]
  },
  {
   "cell_type": "markdown",
   "id": "0ae6557d-d0d2-4fc2-b2b7-4be69c44460f",
   "metadata": {},
   "source": [
    "# prepare model"
   ]
  },
  {
   "cell_type": "code",
   "execution_count": 2,
   "id": "cdfc253c-f0c5-498b-90aa-fd32c99f3778",
   "metadata": {
    "tags": []
   },
   "outputs": [],
   "source": [
    "import numpy as np\n",
    "import matplotlib.pyplot as plt\n",
    "%matplotlib inline\n",
    "#from sklearn.preprocessing import Normalizer\n",
    "import cv2"
   ]
  },
  {
   "cell_type": "code",
   "execution_count": 3,
   "id": "7dbe1d5c-6150-4947-8b07-81703e881235",
   "metadata": {},
   "outputs": [],
   "source": [
    "loaded_good_norm_values = np.load('good_norm_values.npy')"
   ]
  },
  {
   "cell_type": "code",
   "execution_count": 4,
   "id": "5beaa5c0-ef03-498a-aff2-54a2baeb5239",
   "metadata": {
    "tags": []
   },
   "outputs": [],
   "source": [
    "loaded_bad_norm_values = np.load('bad_norm_values.npy')"
   ]
  },
  {
   "cell_type": "code",
   "execution_count": 5,
   "id": "286634f9-b465-4e35-a675-6c5a0618394d",
   "metadata": {},
   "outputs": [
    {
     "data": {
      "text/plain": [
       "array([[0.50907425, 0.49690386, 0.31086143, ..., 0.10328116, 0.10093679,\n",
       "        0.37165687],\n",
       "       [0.51273755, 0.50441431, 0.31878568, ..., 0.10230687, 0.10389935,\n",
       "        0.37489062],\n",
       "       [0.51870891, 0.50875674, 0.31551754, ..., 0.09345938, 0.09968176,\n",
       "        0.38334469],\n",
       "       ...,\n",
       "       [0.53008605, 0.33005411, 0.4961722 , ..., 0.09001262, 0.38104096,\n",
       "        0.04348312],\n",
       "       [0.52081843, 0.49040569, 0.32581401, ..., 0.08971785, 0.0979132 ,\n",
       "        0.38013225],\n",
       "       [0.51614876, 0.49296604, 0.31046361, ..., 0.10313591, 0.10619184,\n",
       "        0.3684691 ]])"
      ]
     },
     "execution_count": 5,
     "metadata": {},
     "output_type": "execute_result"
    }
   ],
   "source": [
    "loaded_good_norm_values"
   ]
  },
  {
   "cell_type": "code",
   "execution_count": 6,
   "id": "b36119dc-a8ba-47be-aca5-d08a4fd1da0a",
   "metadata": {},
   "outputs": [
    {
     "data": {
      "text/plain": [
       "(121, 10)"
      ]
     },
     "execution_count": 6,
     "metadata": {},
     "output_type": "execute_result"
    }
   ],
   "source": [
    "loaded_good_norm_values.shape"
   ]
  },
  {
   "cell_type": "code",
   "execution_count": 7,
   "id": "a3e45884-c16c-4661-9c6e-cefa08d2af8e",
   "metadata": {
    "tags": []
   },
   "outputs": [
    {
     "data": {
      "text/plain": [
       "(306, 10)"
      ]
     },
     "execution_count": 7,
     "metadata": {},
     "output_type": "execute_result"
    }
   ],
   "source": [
    "loaded_bad_norm_values.shape"
   ]
  },
  {
   "cell_type": "code",
   "execution_count": 8,
   "id": "40393ab9-9c04-4bf7-97a0-1986c51183ed",
   "metadata": {},
   "outputs": [],
   "source": [
    "combined_norm_values = np.concatenate((loaded_good_norm_values, loaded_bad_norm_values), dtype=np.float32)"
   ]
  },
  {
   "cell_type": "code",
   "execution_count": 9,
   "id": "0f31da0c-54a6-45f0-ac14-4ec184d2cddc",
   "metadata": {
    "tags": []
   },
   "outputs": [
    {
     "data": {
      "text/plain": [
       "(427, 10)"
      ]
     },
     "execution_count": 9,
     "metadata": {},
     "output_type": "execute_result"
    }
   ],
   "source": [
    "combined_norm_values.shape"
   ]
  },
  {
   "cell_type": "code",
   "execution_count": 10,
   "id": "f2bd96b6-4660-4e7d-945d-a9454550025d",
   "metadata": {
    "tags": []
   },
   "outputs": [],
   "source": [
    "good_labels = np.ones(loaded_good_norm_values.shape[0], dtype=int)\n",
    "bad_labels = np.zeros(loaded_bad_norm_values.shape[0], dtype=int)"
   ]
  },
  {
   "cell_type": "code",
   "execution_count": 11,
   "id": "14ec29e6-17b2-4e00-9c63-5255c3c34621",
   "metadata": {
    "tags": []
   },
   "outputs": [
    {
     "data": {
      "text/plain": [
       "array([1, 1, 1, 1, 1, 1, 1, 1, 1, 1, 1, 1, 1, 1, 1, 1, 1, 1, 1, 1, 1, 1,\n",
       "       1, 1, 1, 1, 1, 1, 1, 1, 1, 1, 1, 1, 1, 1, 1, 1, 1, 1, 1, 1, 1, 1,\n",
       "       1, 1, 1, 1, 1, 1, 1, 1, 1, 1, 1, 1, 1, 1, 1, 1, 1, 1, 1, 1, 1, 1,\n",
       "       1, 1, 1, 1, 1, 1, 1, 1, 1, 1, 1, 1, 1, 1, 1, 1, 1, 1, 1, 1, 1, 1,\n",
       "       1, 1, 1, 1, 1, 1, 1, 1, 1, 1, 1, 1, 1, 1, 1, 1, 1, 1, 1, 1, 1, 1,\n",
       "       1, 1, 1, 1, 1, 1, 1, 1, 1, 1, 1])"
      ]
     },
     "execution_count": 11,
     "metadata": {},
     "output_type": "execute_result"
    }
   ],
   "source": [
    "good_labels"
   ]
  },
  {
   "cell_type": "code",
   "execution_count": 12,
   "id": "2da8a502-d32b-4597-92c6-f5bf2252d01a",
   "metadata": {
    "tags": []
   },
   "outputs": [],
   "source": [
    "combined_labels = np.concatenate((good_labels, bad_labels))"
   ]
  },
  {
   "cell_type": "code",
   "execution_count": 13,
   "id": "76e7d954-15ef-4ff5-bbc7-9dc842218d74",
   "metadata": {
    "tags": []
   },
   "outputs": [
    {
     "data": {
      "text/plain": [
       "(427,)"
      ]
     },
     "execution_count": 13,
     "metadata": {},
     "output_type": "execute_result"
    }
   ],
   "source": [
    "combined_labels.shape"
   ]
  },
  {
   "cell_type": "code",
   "execution_count": 14,
   "id": "1e6132eb-5a2b-47ed-bef0-c3a2b546fb17",
   "metadata": {
    "tags": []
   },
   "outputs": [],
   "source": [
    "loaded_good_values = np.load('good_values.npy')\n",
    "loaded_bad_values = np.load('bad_values.npy')"
   ]
  },
  {
   "cell_type": "code",
   "execution_count": 16,
   "id": "1dcd973e-9693-4dc1-80d0-6986f99d1ab8",
   "metadata": {
    "tags": []
   },
   "outputs": [],
   "source": [
    "raw_values = np.concatenate((loaded_good_values, loaded_bad_values))"
   ]
  },
  {
   "cell_type": "code",
   "execution_count": 17,
   "id": "f8c42c4d-5aad-488d-b654-875c4a64610b",
   "metadata": {
    "tags": []
   },
   "outputs": [
    {
     "data": {
      "text/plain": [
       "(427, 5, 2)"
      ]
     },
     "execution_count": 17,
     "metadata": {},
     "output_type": "execute_result"
    }
   ],
   "source": [
    "raw_values.shape"
   ]
  },
  {
   "cell_type": "code",
   "execution_count": null,
   "id": "0f876002-4778-4a7f-b058-962a0fd840ad",
   "metadata": {},
   "outputs": [],
   "source": []
  },
  {
   "cell_type": "code",
   "execution_count": 18,
   "id": "3d8560b0-a018-4598-a32a-7a0ff011a486",
   "metadata": {},
   "outputs": [],
   "source": [
    "from sklearn.model_selection import train_test_split"
   ]
  },
  {
   "cell_type": "code",
   "execution_count": 20,
   "id": "16566fe4-e044-4924-9009-8ef18c92cd12",
   "metadata": {},
   "outputs": [],
   "source": [
    "prepared_train_values, prepared_test_values, prepared_train_labels, prepared_test_labels, raw_train_values, raw_test_values = train_test_split(\n",
    "    combined_norm_values, \n",
    "    combined_labels,\n",
    "    raw_values,\n",
    "    test_size=0.33, \n",
    "    random_state=42\n",
    ")"
   ]
  },
  {
   "cell_type": "code",
   "execution_count": 21,
   "id": "69fc39e2-c629-4c77-8b7e-7c96d8caf5aa",
   "metadata": {
    "tags": []
   },
   "outputs": [
    {
     "data": {
      "text/plain": [
       "(286, 10)"
      ]
     },
     "execution_count": 21,
     "metadata": {},
     "output_type": "execute_result"
    }
   ],
   "source": [
    "prepared_train_values.shape"
   ]
  },
  {
   "cell_type": "code",
   "execution_count": 22,
   "id": "a4caec5c-af95-4adb-876d-0ab191d1c365",
   "metadata": {
    "tags": []
   },
   "outputs": [
    {
     "data": {
      "text/plain": [
       "(286,)"
      ]
     },
     "execution_count": 22,
     "metadata": {},
     "output_type": "execute_result"
    }
   ],
   "source": [
    "prepared_train_labels.shape"
   ]
  },
  {
   "cell_type": "code",
   "execution_count": 23,
   "id": "d96da170-d7ac-4792-b57f-9404b72bdb2b",
   "metadata": {
    "tags": []
   },
   "outputs": [
    {
     "data": {
      "text/plain": [
       "(286, 5, 2)"
      ]
     },
     "execution_count": 23,
     "metadata": {},
     "output_type": "execute_result"
    }
   ],
   "source": [
    "raw_train_values.shape"
   ]
  },
  {
   "cell_type": "markdown",
   "id": "ae7e7d8c-cd43-4740-a16e-e28c2be34b6f",
   "metadata": {},
   "source": [
    "# training"
   ]
  },
  {
   "cell_type": "code",
   "execution_count": 78,
   "id": "865bd2cd-e2fc-483c-b81c-6512c3056180",
   "metadata": {
    "tags": []
   },
   "outputs": [],
   "source": [
    "# Train the SVM\n",
    "svm = cv2.ml.SVM_create()\n",
    "svm.setType(cv2.ml.SVM_C_SVC)\n",
    "svm.setKernel(cv2.ml.SVM_RBF)\n",
    "svm.setTermCriteria((cv2.TERM_CRITERIA_MAX_ITER, 1_000_000, 1e-6))"
   ]
  },
  {
   "cell_type": "code",
   "execution_count": 79,
   "id": "2e380525-f8fe-489f-a032-919d35ebb3f4",
   "metadata": {
    "tags": []
   },
   "outputs": [
    {
     "data": {
      "text/plain": [
       "True"
      ]
     },
     "execution_count": 79,
     "metadata": {},
     "output_type": "execute_result"
    }
   ],
   "source": [
    "svm.train(prepared_train_values, cv2.ml.ROW_SAMPLE, prepared_train_labels)"
   ]
  },
  {
   "cell_type": "code",
   "execution_count": 85,
   "id": "4dfab6b9-8f1e-4150-9a19-02e02d414cdb",
   "metadata": {
    "tags": []
   },
   "outputs": [],
   "source": [
    "svm.save('trained_arrow_detection.yml')"
   ]
  },
  {
   "cell_type": "code",
   "execution_count": 86,
   "id": "78a964fe-02e3-4420-8d19-f94f4f50e585",
   "metadata": {
    "tags": []
   },
   "outputs": [],
   "source": [
    "svm = cv2.ml.SVM_load('trained_arrow_detection.yml')"
   ]
  },
  {
   "cell_type": "code",
   "execution_count": 41,
   "id": "f15e5c34-2f86-45a2-9cf7-dde46c4cc5b3",
   "metadata": {
    "tags": []
   },
   "outputs": [
    {
     "data": {
      "text/plain": [
       "array([0.49614337, 0.42470527, 0.48049918, 0.5830549 , 0.49141604,\n",
       "       0.8453617 , 0.7274164 , 0.8250857 , 0.6806368 , 0.9214994 ],\n",
       "      dtype=float32)"
      ]
     },
     "execution_count": 41,
     "metadata": {},
     "output_type": "execute_result"
    }
   ],
   "source": [
    "prepared_test_values[0]"
   ]
  },
  {
   "cell_type": "code",
   "execution_count": 43,
   "id": "0390502a-bf8e-4dde-9f5e-9ea89987cf8e",
   "metadata": {
    "tags": []
   },
   "outputs": [
    {
     "data": {
      "text/plain": [
       "matrix([[0.49614337, 0.42470527, 0.48049918, 0.5830549 , 0.49141604,\n",
       "         0.8453617 , 0.7274164 , 0.8250857 , 0.6806368 , 0.9214994 ]],\n",
       "       dtype=float32)"
      ]
     },
     "execution_count": 43,
     "metadata": {},
     "output_type": "execute_result"
    }
   ],
   "source": [
    "np.matrix(prepared_test_values[0])"
   ]
  },
  {
   "cell_type": "code",
   "execution_count": 47,
   "id": "3c7a32e8-18ef-45c8-9e2f-e57f551c4e1e",
   "metadata": {
    "tags": []
   },
   "outputs": [
    {
     "data": {
      "text/plain": [
       "(1, 10)"
      ]
     },
     "execution_count": 47,
     "metadata": {},
     "output_type": "execute_result"
    }
   ],
   "source": [
    "np.matrix(prepared_test_values[0]).shape"
   ]
  },
  {
   "cell_type": "code",
   "execution_count": 28,
   "id": "f3988aa0-c917-49e3-a2ad-96f3e725fb72",
   "metadata": {
    "tags": []
   },
   "outputs": [],
   "source": [
    "response = svm.predict(np.matrix(prepared_test_values[0]))"
   ]
  },
  {
   "cell_type": "code",
   "execution_count": 29,
   "id": "48b2ea77-d013-42a6-97a6-ee7e7cbffe2a",
   "metadata": {
    "tags": []
   },
   "outputs": [
    {
     "data": {
      "text/plain": [
       "(0.0, array([[1.]], dtype=float32))"
      ]
     },
     "execution_count": 29,
     "metadata": {},
     "output_type": "execute_result"
    }
   ],
   "source": [
    "response"
   ]
  },
  {
   "cell_type": "code",
   "execution_count": 30,
   "id": "5bc5ce0a-e552-478b-91e7-a95ed79d3041",
   "metadata": {
    "tags": []
   },
   "outputs": [
    {
     "name": "stdout",
     "output_type": "stream",
     "text": [
      "0.0\n",
      "[[1.]]\n"
     ]
    }
   ],
   "source": [
    "for element in response:\n",
    "    print(element)"
   ]
  },
  {
   "cell_type": "code",
   "execution_count": 31,
   "id": "127cd2fe-ad29-4a54-94da-11d1300ff479",
   "metadata": {
    "tags": []
   },
   "outputs": [
    {
     "data": {
      "text/plain": [
       "0.0"
      ]
     },
     "execution_count": 31,
     "metadata": {},
     "output_type": "execute_result"
    }
   ],
   "source": [
    "response[0]"
   ]
  },
  {
   "cell_type": "code",
   "execution_count": 32,
   "id": "e17935f5-9cc6-4582-96e0-2f6f1b2be3ad",
   "metadata": {
    "tags": []
   },
   "outputs": [
    {
     "data": {
      "text/plain": [
       "array([[1.]], dtype=float32)"
      ]
     },
     "execution_count": 32,
     "metadata": {},
     "output_type": "execute_result"
    }
   ],
   "source": [
    "response[1]"
   ]
  },
  {
   "cell_type": "code",
   "execution_count": 33,
   "id": "79806ee4-223a-4cf0-9129-3ade7e7b97f0",
   "metadata": {
    "tags": []
   },
   "outputs": [
    {
     "data": {
      "text/plain": [
       "1.0"
      ]
     },
     "execution_count": 33,
     "metadata": {},
     "output_type": "execute_result"
    }
   ],
   "source": [
    "response[1][0][0]"
   ]
  },
  {
   "cell_type": "code",
   "execution_count": 34,
   "id": "376b0527-f0b7-46a3-b9b4-b290ff20e3dc",
   "metadata": {},
   "outputs": [],
   "source": []
  },
  {
   "cell_type": "code",
   "execution_count": 36,
   "id": "600e1981-1a0e-4ce2-b475-efc28162bb85",
   "metadata": {},
   "outputs": [
    {
     "data": {
      "text/plain": [
       "0.0"
      ]
     },
     "execution_count": 36,
     "metadata": {},
     "output_type": "execute_result"
    }
   ],
   "source": [
    "responses[0]"
   ]
  },
  {
   "cell_type": "code",
   "execution_count": 88,
   "id": "c5200179-00ff-4bf5-8d0d-3b97020ec1c8",
   "metadata": {},
   "outputs": [
    {
     "name": "stdout",
     "output_type": "stream",
     "text": [
      "response:[1.] label 0 -- position 144\n",
      "response:[1.] label 0 -- position 165\n",
      "response:[1.] label 0 -- position 193\n",
      "response:[1.] label 0 -- position 203\n",
      "response:[1.] label 0 -- position 212\n",
      "response:[1.] label 0 -- position 219\n",
      "response:[1.] label 0 -- position 227\n",
      "response:[1.] label 0 -- position 232\n",
      "response:[1.] label 0 -- position 258\n",
      "response:[1.] label 0 -- position 271\n",
      "response:[1.] label 0 -- position 276\n",
      "response:[1.] label 0 -- position 282\n",
      "response:[1.] label 0 -- position 283\n",
      "response:[1.] label 0 -- position 307\n",
      "response:[1.] label 0 -- position 308\n",
      "response:[1.] label 0 -- position 310\n",
      "response:[1.] label 0 -- position 317\n",
      "response:[1.] label 0 -- position 319\n",
      "response:[1.] label 0 -- position 325\n",
      "response:[1.] label 0 -- position 333\n",
      "response:[1.] label 0 -- position 334\n",
      "response:[1.] label 0 -- position 339\n",
      "response:[1.] label 0 -- position 347\n",
      "response:[1.] label 0 -- position 349\n",
      "response:[1.] label 0 -- position 354\n",
      "response:[1.] label 0 -- position 358\n",
      "response:[1.] label 0 -- position 362\n",
      "response:[1.] label 0 -- position 371\n",
      "response:[1.] label 0 -- position 389\n",
      "response:[1.] label 0 -- position 422\n"
     ]
    }
   ],
   "source": [
    "#responses = svm.predict(prepared_test_values)\n",
    "#for position, label in enumerate(prepared_test_labels):\n",
    "#    if responses[1][position] != label:\n",
    "#        print(f'response:{responses[1][position]} but label {label} -- position {position}')\n",
    "\n",
    "#responses = svm.predict(prepared_train_values)\n",
    "#for position, label in enumerate(prepared_train_labels):\n",
    "#    if responses[1][position] != label:\n",
    "#        print(f'response:{responses[1][position]} but label {label} -- position {position}')\n",
    "        \n",
    "responses = svm.predict(combined_norm_values)\n",
    "for position, label in enumerate(combined_labels):\n",
    "    if responses[1][position] != label:\n",
    "        print(f'response:{responses[1][position]} label {label} -- position {position}')\n",
    "\n"
   ]
  },
  {
   "cell_type": "code",
   "execution_count": null,
   "id": "706cb98b-d40f-4ad9-8302-ec581e318f51",
   "metadata": {},
   "outputs": [],
   "source": []
  },
  {
   "cell_type": "code",
   "execution_count": 89,
   "id": "30039c22-c1ed-4932-89f7-cf14c901f50f",
   "metadata": {
    "tags": []
   },
   "outputs": [],
   "source": [
    "blue = (255, 0, 0)\n",
    "red = (0, 0, 255)\n",
    "for num, con in enumerate(raw_values):\n",
    "    black = np.zeros((480, 640, 4))\n",
    "\n",
    "    if combined_labels[num] == 1:\n",
    "        color = blue\n",
    "    else:\n",
    "        color = red\n",
    "        \n",
    "    if responses[1][num] == 1:\n",
    "        color1 = blue\n",
    "    else:\n",
    "        color1 = red\n",
    "        \n",
    "    cv2.drawContours(black, [con], -1, color1, thickness=10)\n",
    "    cv2.drawContours(black, [con], -1, color, thickness=3)\n",
    "\n",
    "\n",
    "    cv2.imshow('example', black)\n",
    "    key = cv2.waitKey(0)\n",
    "    if key == ord('q') or key == 27:  # ESC\n",
    "        break\n",
    "        \n",
    "cv2.destroyAllWindows()"
   ]
  },
  {
   "cell_type": "code",
   "execution_count": 83,
   "id": "c57c207d-7458-481e-9c48-2ddcdaf27ff9",
   "metadata": {
    "tags": []
   },
   "outputs": [],
   "source": [
    "blue = (255, 0, 0)\n",
    "red = (0, 0, 255)\n",
    "for num, con in enumerate(raw_test_values):\n",
    "    black = np.zeros((480, 640, 4))\n",
    "\n",
    "    if prepared_test_labels[num] == 1:\n",
    "        color = blue\n",
    "    else:\n",
    "        color = red\n",
    "        \n",
    "    if responses[1][num] == 1:\n",
    "        color1 = blue\n",
    "    else:\n",
    "        color1 = red\n",
    "        \n",
    "    cv2.drawContours(black, [con], -1, color1, thickness=10)\n",
    "    cv2.drawContours(black, [con], -1, color, thickness=3)\n",
    "\n",
    "\n",
    "    cv2.imshow('example', black)\n",
    "    key = cv2.waitKey(0)\n",
    "    if key == ord('q') or key == 27:  # ESC\n",
    "        break\n",
    "        \n",
    "cv2.destroyAllWindows()"
   ]
  },
  {
   "cell_type": "code",
   "execution_count": 107,
   "id": "8875cc44-cf43-4c1e-8c4c-4d197659d50f",
   "metadata": {
    "tags": []
   },
   "outputs": [
    {
     "data": {
      "text/plain": [
       "0"
      ]
     },
     "execution_count": 107,
     "metadata": {},
     "output_type": "execute_result"
    }
   ],
   "source": [
    "prepared_test_labels[0]"
   ]
  },
  {
   "cell_type": "code",
   "execution_count": 104,
   "id": "b4da6243-0b6f-4c24-afaf-9833cb49f341",
   "metadata": {
    "tags": []
   },
   "outputs": [],
   "source": [
    "response = svm.predict(np.matrix(prepared_train_values[0]))"
   ]
  },
  {
   "cell_type": "code",
   "execution_count": 105,
   "id": "01d918b5-5bb0-43c2-b1e2-351ba1177fe9",
   "metadata": {
    "tags": []
   },
   "outputs": [
    {
     "data": {
      "text/plain": [
       "(0.0, array([[1.]], dtype=float32))"
      ]
     },
     "execution_count": 105,
     "metadata": {},
     "output_type": "execute_result"
    }
   ],
   "source": [
    "response"
   ]
  },
  {
   "cell_type": "code",
   "execution_count": 106,
   "id": "a1f1e2f5-4e63-49cd-bcb9-5d4346bf6d46",
   "metadata": {
    "tags": []
   },
   "outputs": [
    {
     "data": {
      "text/plain": [
       "1"
      ]
     },
     "execution_count": 106,
     "metadata": {},
     "output_type": "execute_result"
    }
   ],
   "source": [
    "prepared_train_labels[0]"
   ]
  },
  {
   "cell_type": "code",
   "execution_count": null,
   "id": "357cfcf7-e0f3-478c-9b7d-7a3a2a1d69ac",
   "metadata": {},
   "outputs": [],
   "source": []
  },
  {
   "cell_type": "code",
   "execution_count": null,
   "id": "5b6872dd-55ef-4aea-826a-4deb0fa46db4",
   "metadata": {},
   "outputs": [],
   "source": []
  },
  {
   "cell_type": "code",
   "execution_count": 90,
   "id": "323f4849-7242-4070-841e-63dc3ad81988",
   "metadata": {},
   "outputs": [],
   "source": [
    "test_img = cv2.imread('/home/me/Bilder/Bildschirmfotos/Bildschirmfoto vom 2023-09-10 20-07-58.png')"
   ]
  },
  {
   "cell_type": "code",
   "execution_count": 94,
   "id": "5fbca5b6-bdd7-4bd3-97bb-4df2722dbd1f",
   "metadata": {},
   "outputs": [],
   "source": [
    "point_list = extract_good_values(test_img)"
   ]
  },
  {
   "cell_type": "code",
   "execution_count": 95,
   "id": "2794fb1d-9bd2-43da-9520-0a59470db45f",
   "metadata": {
    "tags": []
   },
   "outputs": [],
   "source": [
    "point_list = np.array(point_list)"
   ]
  },
  {
   "cell_type": "code",
   "execution_count": 96,
   "id": "0c4592a2-8484-45ba-b3ba-3949a95f2ea7",
   "metadata": {},
   "outputs": [],
   "source": [
    "# create normalized values\n",
    "norm_values = np.zeros((point_list.shape[0], point_list.shape[1] * 2))\n",
    "for pos, contour in enumerate(point_list):\n",
    "    ranges, angles = ranges_and_angles(contour)\n",
    "    result = np.concatenate((ranges, angles))\n",
    "    norm_values[pos][:] = result"
   ]
  },
  {
   "cell_type": "code",
   "execution_count": 97,
   "id": "34232b5c-26b9-40d1-b623-ce3e21ac91d6",
   "metadata": {},
   "outputs": [
    {
     "data": {
      "text/plain": [
       "array([[0.43448304, 0.35714286, 0.41649656, 0.57587555, 0.22587698,\n",
       "        0.87129939, 0.68842682, 0.93378128, 0.78141648, 0.72507604],\n",
       "       [0.52235221, 0.50284322, 0.31877771, 0.50029476, 0.31745804,\n",
       "        0.04847787, 0.37988376, 0.09443678, 0.09185247, 0.38534913]])"
      ]
     },
     "execution_count": 97,
     "metadata": {},
     "output_type": "execute_result"
    }
   ],
   "source": [
    "norm_values"
   ]
  },
  {
   "cell_type": "code",
   "execution_count": 99,
   "id": "257c489a-5c58-4680-8683-ee42b8faf559",
   "metadata": {},
   "outputs": [
    {
     "name": "stdout",
     "output_type": "stream",
     "text": [
      "(0.0, array([[0.]], dtype=float32))\n",
      "(0.0, array([[1.]], dtype=float32))\n"
     ]
    }
   ],
   "source": [
    "for features in norm_values:\n",
    "    result = svm.predict(np.matrix(features, dtype=np.float32))\n",
    "    print(result)"
   ]
  },
  {
   "cell_type": "code",
   "execution_count": 108,
   "id": "b85de738-57ee-4e8c-9050-41895a9c185b",
   "metadata": {},
   "outputs": [],
   "source": [
    "#black = np.zeros((480, 640, 4))\n",
    "#for con in point_list:\n",
    "#    cv2.drawContours(black, [con], -1, (255, 0, 0), thickness=5)\n",
    "cv2.drawContours(test_img, [point_list[1]], -1, (255, 0, 0), thickness=5)\n",
    "\n",
    "cv2.imshow('example', test_img)\n",
    "cv2.waitKey(0)\n",
    "cv2.destroyAllWindows()"
   ]
  },
  {
   "cell_type": "markdown",
   "id": "a9f6bce0-30ac-4b4e-b417-df9bfa15e977",
   "metadata": {},
   "source": [
    "# collect more data"
   ]
  },
  {
   "cell_type": "code",
   "execution_count": null,
   "id": "33aea2f5-5a05-4a4a-8810-bdcac130444d",
   "metadata": {},
   "outputs": [],
   "source": []
  },
  {
   "cell_type": "code",
   "execution_count": null,
   "id": "b46751e9-1fd8-4ea8-8493-c514d684ce9f",
   "metadata": {},
   "outputs": [],
   "source": []
  },
  {
   "cell_type": "code",
   "execution_count": null,
   "id": "e64b00e1-5bec-4d1f-92fc-ca257435612c",
   "metadata": {},
   "outputs": [],
   "source": []
  },
  {
   "cell_type": "code",
   "execution_count": 46,
   "id": "d54b564a-a405-46d2-9d7d-f3970f70e97d",
   "metadata": {
    "tags": []
   },
   "outputs": [],
   "source": [
    "def rot_point(min_rect):\n",
    "    width_to_height = min_rect[1][0] / min_rect[0][0]\n",
    "    \n",
    "    box = cv2.boxPoints(test_rect)\n",
    "    box = np.intp(box)\n",
    "    \n",
    "    lowest_point= np.arry((0, 1_000_000))\n",
    "    second_lowest_point = np.arry((0, 2_000_000))\n",
    "    for i in range(len(box)):\n",
    "        if box[i][1] < lowest_point[1]:\n",
    "            lowest_point = box[i]\n",
    "        elif box[i][1] < second_lowest_point[1]:\n",
    "            second_lowest_point = box[i]\n",
    "        \n",
    "    if widht_to_height > 0:\n",
    "        if 0 <= min_rect[2] < 90:\n",
    "            # lowest point, rot further\n",
    "            offset_point = lowest_point\n",
    "            needed_rot = 90 - min_rect[2]\n",
    "        else:\n",
    "            # second lowest point, rot back\n",
    "            offset_point = second_lowest_point\n",
    "            needed_rot = 90 - min_rect[2]\n",
    "            \n",
    "    else:\n",
    "        if 0 < min_rect[2] <= 90:\n",
    "            # second lowest point, rot back\n",
    "            offset_point = second_lowest_point\n",
    "            needed_rot = -min_rect[2]\n",
    "            \n",
    "        else:\n",
    "            # lowest point, rot further\n",
    "            offset_point = lowest_point\n",
    "            needed_rot = 180 - min_rect[2]\n",
    "            \n",
    "    return offset_point, needed_rot"
   ]
  },
  {
   "cell_type": "markdown",
   "id": "88ebdced-6c6a-4c08-8e53-45403197b393",
   "metadata": {},
   "source": [
    "# svm opencv (svm.save for saving)"
   ]
  },
  {
   "cell_type": "code",
   "execution_count": 29,
   "id": "566bddc6-d224-4908-9274-23b2be8dd3b1",
   "metadata": {
    "tags": []
   },
   "outputs": [],
   "source": [
    "import cv2 as cv\n",
    "import numpy as np\n",
    "# Set up training data\n",
    "labels = np.array([1, -1, -1, -1])\n",
    "trainingData = np.matrix([[501, 10], [255, 10], [501, 255], [10, 501]], dtype=np.float32)\n",
    "# Train the SVM\n",
    "svm = cv.ml.SVM_create()\n",
    "svm.setType(cv.ml.SVM_C_SVC)\n",
    "svm.setKernel(cv.ml.SVM_LINEAR)\n",
    "svm.setTermCriteria((cv.TERM_CRITERIA_MAX_ITER, 100, 1e-6))\n",
    "svm.train(trainingData, cv.ml.ROW_SAMPLE, labels)\n",
    "# Data for visual representation\n",
    "width = 512\n",
    "height = 512\n",
    "image = np.zeros((height, width, 3), dtype=np.uint8)\n",
    "# Show the decision regions given by the SVM\n",
    "green = (0,255,0)\n",
    "blue = (255,0,0)\n",
    "for i in range(image.shape[0]):\n",
    "    for j in range(image.shape[1]):\n",
    "        sampleMat = np.matrix([[j,i]], dtype=np.float32)\n",
    "        response = svm.predict(sampeMat)[1]\n",
    "        response = response[0][0]\n",
    "        \n",
    "        if response == 1:\n",
    "            image[i,j] = green\n",
    "        elif response == -1:\n",
    "            image[i,j] = blue\n",
    "        else:\n",
    "            import pdb\n",
    "            pdb.set_trace()\n",
    "        \n",
    "#import pdb\n",
    "#pdb.set_trace()\n",
    "        \n",
    "# Show the training data\n",
    "thickness = -1\n",
    "cv.circle(image, (501, 10), 5, ( 0, 0, 0), thickness)\n",
    "cv.circle(image, (255, 10), 5, (255, 255, 255), thickness)\n",
    "cv.circle(image, (501, 255), 5, (255, 255, 255), thickness)\n",
    "cv.circle(image, ( 10, 501), 5, (255, 255, 255), thickness)\n",
    "# Show support vectors\n",
    "thickness = 2\n",
    "sv = svm.getUncompressedSupportVectors()\n",
    "for i in range(sv.shape[0]):\n",
    "    cv.circle(image, (int(sv[i,0]), int(sv[i,1])), 6, (128, 128, 128), thickness)\n",
    "    \n",
    "\n",
    "#cv.imwrite('result.png', image) # save the image\n",
    "cv.imshow('SVM Simple Example', image) # show it to the user\n",
    "cv.waitKey()\n",
    "cv.destroyAllWindows()"
   ]
  },
  {
   "cell_type": "code",
   "execution_count": 24,
   "id": "18f3267a-66ae-482e-89c4-6f68898b6c81",
   "metadata": {
    "tags": []
   },
   "outputs": [],
   "source": []
  },
  {
   "cell_type": "code",
   "execution_count": null,
   "id": "41d6645e-abd3-4771-8033-a5b82bb00595",
   "metadata": {},
   "outputs": [],
   "source": []
  }
 ],
 "metadata": {
  "kernelspec": {
   "display_name": "Python 3 (ipykernel)",
   "language": "python",
   "name": "python3"
  },
  "language_info": {
   "codemirror_mode": {
    "name": "ipython",
    "version": 3
   },
   "file_extension": ".py",
   "mimetype": "text/x-python",
   "name": "python",
   "nbconvert_exporter": "python",
   "pygments_lexer": "ipython3",
   "version": "3.11.4"
  }
 },
 "nbformat": 4,
 "nbformat_minor": 5
}
