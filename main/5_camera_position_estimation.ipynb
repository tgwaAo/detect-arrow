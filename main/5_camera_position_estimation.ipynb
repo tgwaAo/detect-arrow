{
 "cells": [
  {
   "cell_type": "markdown",
   "id": "83c48ff6-19a2-413a-92e1-5c4f0a447e6f",
   "metadata": {},
   "source": [
    "# Use camera and estimate position"
   ]
  },
  {
   "cell_type": "markdown",
   "id": "69a926df-cbe4-4b73-901d-7992cae2b490",
   "metadata": {},
   "source": [
    "## Imports, definitions and loadings"
   ]
  },
  {
   "cell_type": "code",
   "execution_count": 1,
   "id": "94fe64a7-f92f-4a44-a4b5-4c50790ef4a4",
   "metadata": {},
   "outputs": [],
   "source": [
    "import numpy as np\n",
    "np.set_printoptions(suppress=True)\n",
    "import matplotlib.pyplot as plt\n",
    "import cv2\n",
    "import threading\n",
    "from queue import Queue\n",
    "from time import time"
   ]
  },
  {
   "cell_type": "code",
   "execution_count": 2,
   "id": "d12cf282-c031-4e2c-8f0a-d783b621edf0",
   "metadata": {},
   "outputs": [
    {
     "data": {
      "text/plain": [
       "array([[655.19135007,   0.        , 319.04529769],\n",
       "       [  0.        , 655.56447367, 223.19439802],\n",
       "       [  0.        ,   0.        ,   1.        ]])"
      ]
     },
     "execution_count": 2,
     "metadata": {},
     "output_type": "execute_result"
    }
   ],
   "source": [
    "K = np.loadtxt('../../cam-config/mtx.txt')\n",
    "K"
   ]
  },
  {
   "cell_type": "code",
   "execution_count": 3,
   "id": "96afc0aa-42a7-4c54-a49b-3bc6827f45bc",
   "metadata": {},
   "outputs": [],
   "source": [
    "COMPARED_SIZE = (24, 68)\n",
    "AREA_BORDER = COMPARED_SIZE[0] * COMPARED_SIZE[1]\n",
    "WIDTH_TO_HEIGHT = COMPARED_SIZE[0] / COMPARED_SIZE[1]\n",
    "SIZE_FACTOR = 0.3\n",
    "MIN_WIDTH_TO_HEIGHT = WIDTH_TO_HEIGHT * (1 - SIZE_FACTOR)\n",
    "MAX_WIDTH_TO_HEIGHT = WIDTH_TO_HEIGHT * (1 + SIZE_FACTOR)"
   ]
  },
  {
   "cell_type": "code",
   "execution_count": 4,
   "id": "3d578ebf-3b22-4617-8d55-ce094a010e03",
   "metadata": {},
   "outputs": [],
   "source": [
    "def prepare_rotation(min_rect):\n",
    "    \"\"\"\n",
    "    Prepare portrait rotation. No difference between up and down.\n",
    "    \"\"\"\n",
    "    \n",
    "    width_to_height = min_rect[1][0] / min_rect[1][1]\n",
    "    \n",
    "    if width_to_height >= 1:\n",
    "        return 90 - min_rect[2]\n",
    "    else:\n",
    "        return min_rect[2]"
   ]
  },
  {
   "cell_type": "code",
   "execution_count": 5,
   "id": "85b810e9-43ca-4d30-80d5-f34f1f94af92",
   "metadata": {},
   "outputs": [],
   "source": [
    "def rotate_and_crop(image, min_area_rect, factor=1.3, cnt=None):\n",
    "    box = cv2.boxPoints(min_area_rect)\n",
    "    box = np.intp(box)\n",
    "\n",
    "    width = round(min_area_rect[1][0])\n",
    "    height = round(min_area_rect[1][1])\n",
    "\n",
    "    size_of_transformed_image = max(min_area_rect[1])\n",
    "    min_needed_height = int(np.sqrt(2 * np.power(size_of_transformed_image, 2)))\n",
    "\n",
    "    width_to_height = min_area_rect[1][0] / min_area_rect[1][1]\n",
    "    \n",
    "    if width_to_height >= 1:\n",
    "        min_rect_angle_deg = -1 * (90 - min_area_rect[2])\n",
    "    else:\n",
    "        min_rect_angle_deg = min_area_rect[2]    \n",
    "\n",
    "    size = (min_needed_height, min_needed_height)\n",
    "\n",
    "    x_coordinates_of_box = box[:,0]\n",
    "    y_coordinates_of_box = box[:,1]\n",
    "    x_min = min(x_coordinates_of_box)\n",
    "    x_max = max(x_coordinates_of_box)\n",
    "    y_min = min(y_coordinates_of_box)\n",
    "    y_max = max(y_coordinates_of_box)\n",
    "\n",
    "    center = (int((x_min+x_max)/2), int((y_min+y_max)/2))\n",
    "    cropped = cv2.getRectSubPix(image, size, center) \n",
    "    M = cv2.getRotationMatrix2D((size[0]/2, size[1]/2), min_rect_angle_deg, 1.0)\n",
    "    cropped = cv2.warpAffine(cropped, M, size)\n",
    "\n",
    "    if width_to_height >= 1:\n",
    "        cropped_rotated = cv2.getRectSubPix(cropped, (int(factor * height), int(factor * width)), (size[0]/2, size[1]/2))\n",
    "    else:\n",
    "        cropped_rotated = cv2.getRectSubPix(cropped, (int(factor * width), int(factor * height)), (size[0]/2, size[1]/2))\n",
    "\n",
    "    if cnt is not None:\n",
    "        hull_pts = extract_feature_pts(cnt)\n",
    "        hull_pts = np.array(merge_points(hull_pts)) - min_area_rect[0]\n",
    "        rot_pts = np.zeros((len(hull_pts), 2))\n",
    "\n",
    "        for idx, pt in enumerate(hull_pts):\n",
    "            angle_rad = np.arctan2(pt[1], pt[0]) - np.deg2rad(min_rect_angle_deg)\n",
    "            dist = np.hypot(pt[0], pt[1])\n",
    "            pt_x = dist * np.cos(angle_rad)\n",
    "            pt_y = dist * np.sin(angle_rad)\n",
    "            rot_pts[idx] = pt_x, pt_y\n",
    "\n",
    "    return cropped_rotated, rot_pts"
   ]
  },
  {
   "cell_type": "code",
   "execution_count": 6,
   "id": "88c6fe69-9656-4799-ba7c-f05f3bcb2a39",
   "metadata": {},
   "outputs": [],
   "source": [
    "def extract_cnts(img):\n",
    "    gray_img = cv2.cvtColor(img, cv2.COLOR_BGR2GRAY)\n",
    "    blurred = cv2.blur(gray_img, (3,3))\n",
    "    \n",
    "    sigma = 0.33\n",
    "    v = np.median(blurred)\n",
    "    \n",
    "    #---- apply automatic Canny edge detection using the computed median----\n",
    "    lower = int(max(0, (1.0 - sigma) * v))    #---- lower threshold\n",
    "    upper = int(min(255, (1.0 + sigma) * v))  #---- upper threshold\n",
    "    thresh_img = cv2.Canny(blurred, lower, upper)\n",
    "    cnts, _ = cv2.findContours(thresh_img, cv2.RETR_TREE, cv2.CHAIN_APPROX_SIMPLE)\n",
    "    return cnts, gray_img"
   ]
  },
  {
   "cell_type": "code",
   "execution_count": 7,
   "id": "bef8112e-c41a-49fd-9f59-600868562c03",
   "metadata": {},
   "outputs": [],
   "source": [
    "def filter_cnts(cnts, gray_img=None, AREA_BORDER=None):\n",
    "    filtered_list = []\n",
    "    pos_filtered_to_pos_source = {}\n",
    "    pos_filtered = 0\n",
    "    center_list = []\n",
    "    hull_rot_pts = []\n",
    "    too_close = False\n",
    "    for pos_source, con in enumerate(cnts):\n",
    "        min_rect = cv2.minAreaRect(con)\n",
    "        center, size, angle_deg = min_rect\n",
    "        area = size[0] * size[1]\n",
    "\n",
    "        if AREA_BORDER is not None and area < AREA_BORDER:\n",
    "            continue\n",
    "    \n",
    "        low_value = min(size[0], size[1])\n",
    "        high_value = max(size[0], size[1])\n",
    "        if high_value == 0:\n",
    "            continue\n",
    "            \n",
    "        width_to_height = low_value / high_value\n",
    "    \n",
    "        if MIN_WIDTH_TO_HEIGHT < width_to_height < MAX_WIDTH_TO_HEIGHT:\n",
    "            for c_point in center_list:\n",
    "                too_close = np.all(np.isclose(center, c_point, rtol=0, atol=20))\n",
    "                if too_close:\n",
    "                    break\n",
    "    \n",
    "            if too_close:\n",
    "                continue\n",
    "            center_list.append(center)\n",
    "\n",
    "            if gray_img is not None:\n",
    "                cropped_img, rot_pts = rotate_and_crop(gray_img, min_rect, cnt=con)\n",
    "                db_pt = extract_feature_pts(con)\n",
    "                hull_rot_pts.append(rot_pts)\n",
    "                small_img = cv2.resize(cropped_img, COMPARED_SIZE)\n",
    "                filtered_list.append(small_img)\n",
    "            pos_filtered_to_pos_source[pos_filtered] = pos_source\n",
    "            pos_filtered += 1\n",
    "    \n",
    "    filtered_list = np.array(filtered_list)   \n",
    "    return filtered_list, pos_filtered_to_pos_source, hull_rot_pts"
   ]
  },
  {
   "cell_type": "code",
   "execution_count": 8,
   "id": "af055aeb-6192-4902-9b44-d83ab4bfffd7",
   "metadata": {},
   "outputs": [],
   "source": [
    "def sort_cnts(prediction, pos_filtered_to_pos_source, cnts, filtered_list):\n",
    "    positive_contours = []\n",
    "    negative_contours = []\n",
    "    \n",
    "    for pos, value in enumerate(prediction):\n",
    "        idx = pos_filtered_to_pos_source[pos]\n",
    "        if value[0] >= 0.5:\n",
    "            positive_contours.append(cnts[idx])\n",
    "        else:\n",
    "            negative_contours.append(cnts[idx])\n",
    "\n",
    "    return positive_contours, negative_contours"
   ]
  },
  {
   "cell_type": "code",
   "execution_count": 9,
   "id": "e3094488-3b5a-45d1-ac87-21d42a5c5d58",
   "metadata": {},
   "outputs": [],
   "source": [
    "def extract_feature_pts(pos_cnt):\n",
    "    retval = cv2.arcLength(pos_cnt, True)\n",
    "    points = cv2.approxPolyDP(pos_cnt, 0.04 * retval, True)\n",
    "    return points"
   ]
  },
  {
   "cell_type": "code",
   "execution_count": 10,
   "id": "689d8520-5d71-4de0-a8ef-73ddbe1e8aa3",
   "metadata": {},
   "outputs": [],
   "source": [
    "def merge_points(points, MAX_MERGE_DIST = 4):\n",
    "    to_merge = []\n",
    "    checked_points_idx = []\n",
    "    last_to_merge = False\n",
    "    for idx in range(len(points)-1):\n",
    "        first_point = points[idx, 0]\n",
    "        if idx not in checked_points_idx:\n",
    "            to_merge_bundle = [first_point]\n",
    "            \n",
    "            for idx2 in range(idx+1, len(points)):\n",
    "                second_point = points[idx2, 0]\n",
    "                dist = np.abs(first_point - second_point)\n",
    "                \n",
    "                if dist[0] < MAX_MERGE_DIST and dist[1] < MAX_MERGE_DIST:\n",
    "                    to_merge_bundle.append(second_point)\n",
    "                    checked_points_idx.append(idx2)\n",
    "                    if idx2 == len(points)-1:\n",
    "                        last_to_merge = True\n",
    "    \n",
    "            to_merge.append(to_merge_bundle)\n",
    "    \n",
    "    if not last_to_merge:\n",
    "        to_merge.append([points[-1, 0]])\n",
    "\n",
    "    filtered_points = []\n",
    "    for to_merge_bundle in to_merge:\n",
    "        if len(to_merge_bundle) == 1:\n",
    "            filtered_points.append(to_merge_bundle[0])\n",
    "        else:\n",
    "            filtered_point = np.sum(to_merge_bundle, axis=0)/ len(to_merge_bundle)\n",
    "            filtered_points.append(filtered_point)\n",
    "\n",
    "    return filtered_points"
   ]
  },
  {
   "cell_type": "code",
   "execution_count": 11,
   "id": "b46fcbf1-6864-4f43-8a9b-30591505b325",
   "metadata": {},
   "outputs": [],
   "source": [
    "def more_pts_up(pts, center=None):\n",
    "    if center is not None:\n",
    "        y_max = center[1]\n",
    "    else:\n",
    "        y_max = 0\n",
    "        \n",
    "    pts_up = 0\n",
    "    pts_down = 0\n",
    "\n",
    "    for x, y in pts:\n",
    "        if y < y_max:\n",
    "            pts_up += 1\n",
    "        else:\n",
    "            pts_down += 1\n",
    "\n",
    "    return pts_down < pts_up"
   ]
  },
  {
   "cell_type": "code",
   "execution_count": 12,
   "id": "e68752bf-253c-4316-a170-7a56cd8ddc69",
   "metadata": {},
   "outputs": [],
   "source": [
    "def angle_x_axis(pt):\n",
    "    angle_rad = np.arctan2(pt[0], pt[1])\n",
    "    if angle_rad < 0:\n",
    "        angle_rad += 2 * np.pi\n",
    "    return angle_rad"
   ]
  },
  {
   "cell_type": "code",
   "execution_count": 13,
   "id": "c1475dda-1723-4f82-83c0-58012bb6f427",
   "metadata": {},
   "outputs": [],
   "source": [
    "def get_max_dist_reference(pts, ref_up):\n",
    "    max_dist = 0\n",
    "    min_idx = -1\n",
    "    for idx, pt in enumerate(pts):\n",
    "        dist = np.power(pt[0], 2) + np.power(pt[1], 2)\n",
    "        if max_dist < dist:\n",
    "            if ref_up and pt[1] < 0: # up is lower\n",
    "                min_idx = idx\n",
    "                max_dist = dist\n",
    "            elif not ref_up and 0 < pt[1]:\n",
    "                min_idx = idx\n",
    "                max_dist = dist\n",
    "            \n",
    "    # TODO: abort if min_idx == -1        \n",
    "    return pts[min_idx]"
   ]
  },
  {
   "cell_type": "code",
   "execution_count": 14,
   "id": "b5aa591f-1c2f-45c4-a4b7-5ac13462a263",
   "metadata": {},
   "outputs": [],
   "source": [
    "def rot_centered_pts(pts, ref_angle_rad):\n",
    "    rot_pts = np.zeros((len(pts), 2))\n",
    "    for idx, pt in enumerate(pts):\n",
    "        angle_rad = np.arctan2(pt[1], pt[0]) + ref_angle_rad\n",
    "        dist = np.hypot(pt[0], pt[1])\n",
    "        pt_x = dist * np.cos(angle_rad)\n",
    "        pt_y = dist * np.sin(angle_rad)\n",
    "        rot_pts[idx] = pt_x, pt_y\n",
    "        \n",
    "    return rot_pts"
   ]
  },
  {
   "cell_type": "code",
   "execution_count": 15,
   "id": "81884f21-a0de-4f5c-8bc0-a4b349ed88f1",
   "metadata": {},
   "outputs": [],
   "source": [
    "def sort_pts_by_angles(rot_pts, org_pts):\n",
    "    angles_rad = [angle_x_axis(pt) for pt in rot_pts]\n",
    "    idx_sorted = np.argsort(angles_rad)\n",
    "    return org_pts[idx_sorted]"
   ]
  },
  {
   "cell_type": "code",
   "execution_count": 16,
   "id": "1dc8a68a-7d7b-40c1-8174-4fa7acf3c4cb",
   "metadata": {},
   "outputs": [],
   "source": [
    "def sort_pt_biggest_dist_center(pts, ref_up, org_pts):\n",
    "    closest_y = get_max_dist_reference(pts, ref_up)\n",
    "    ref_angle_rad = (np.pi / 2) - np.arctan2(closest_y[1], closest_y[0])\n",
    "    rot_pts = rot_centered_pts(pts, ref_angle_rad)\n",
    "    return sort_pts_by_angles(rot_pts, org_pts)   "
   ]
  },
  {
   "cell_type": "code",
   "execution_count": 29,
   "id": "f0aeb090-4e23-4eb8-887d-2588d3263605",
   "metadata": {},
   "outputs": [],
   "source": [
    "def calc_rot_and_trans(H, K):\n",
    "    H = H.T\n",
    "    h1 = H[0]\n",
    "    h2 = H[1]\n",
    "    h3 = H[2]\n",
    "    K_inv = np.linalg.inv(K)\n",
    "    L = 1 / np.linalg.norm(np.dot(K_inv, h1))\n",
    "    r1 = L * np.dot(K_inv, h1)\n",
    "    r2 = L * np.dot(K_inv, h2)\n",
    "    r3 = np.cross(r1, r2)\n",
    "    \n",
    "    T = L * np.dot(K_inv, h3)\n",
    "    # print(T)\n",
    "    \n",
    "    R = np.array([[r1], [r2], [r3]])\n",
    "    R = np.reshape(R, (3, 3))\n",
    "    U, S, V = np.linalg.svd(R, full_matrices=True)\n",
    "    U = np.matrix(U)\n",
    "    V = np.matrix(V)\n",
    "    R = U * V\n",
    "    \n",
    "    alpha = np.rad2deg(np.arctan2(R[2, 1], R[2, 2]))\n",
    "    beta = np.rad2deg(np.arctan2(-R[2, 0], np.sqrt(R[2, 1] * R[2, 1] + R[2, 2] * R[2, 2])))\n",
    "    gamma = np.rad2deg((np.arctan2(R[1, 0], R[0, 0])))\n",
    "    \n",
    "    # text = f'rX: {np.rad2deg(alpha):0.2f} rY: {np.rad2deg(beta):0.2f} rZ: {np.rad2deg(gamma):0.2f}'\n",
    "    # print(text)\n",
    "    return (np.array((alpha, beta, gamma)), T)"
   ]
  },
  {
   "cell_type": "code",
   "execution_count": 18,
   "id": "3d67cd3c-76a8-44c5-b909-4ae895395a03",
   "metadata": {},
   "outputs": [],
   "source": [
    "def est_pos_in_img(img, model, points_printed):\n",
    "    if img is None:\n",
    "        raise IOError('file not valid')\n",
    "    \n",
    "    cnts, gray_img = extract_cnts(img)\n",
    "    filtered_list, pos_filtered_to_pos_source, hull_rot_pts = filter_cnts(cnts, gray_img)\n",
    "\n",
    "    if not len(filtered_list):\n",
    "        print('no candidate for prediction found')\n",
    "        return None\n",
    "    \n",
    "    prediction = model.predict(filtered_list, verbose=0)\n",
    "    # print(prediction.shape)\n",
    "    # print(prediction)\n",
    "\n",
    "    pos_cnts, neg_cnts = sort_cnts(prediction, pos_filtered_to_pos_source, cnts, filtered_list)\n",
    "    \n",
    "    # cv2.drawContours(img, pos_cnts, -1, (0,0,255), 2)\n",
    "    # cv2.drawContours(img, neg_cnts, -1, (255,0,0), 2)\n",
    "    \n",
    "    if not len(pos_cnts):\n",
    "        return None\n",
    "        \n",
    "    img_points = extract_feature_pts(pos_cnts[0])\n",
    "    img_points = merge_points(img_points)\n",
    "    if len(img_points) != 5:\n",
    "        # raise ValueError(f'expected 5 points, but got {len(img_points)} at {img_points}')\n",
    "        return None\n",
    "        \n",
    "    img_points = np.reshape(img_points, (5,2))\n",
    "    idx = np.argwhere(prediction >= 0.5)[0][0]\n",
    "    rot_points = hull_rot_pts[idx]\n",
    "    \n",
    "    ref_up = more_pts_up(rot_points)\n",
    "    img_points = sort_pt_biggest_dist_center(rot_points, ref_up, img_points)\n",
    "\n",
    "    # for idx, pt in enumerate(img_points):\n",
    "    #     tmp_pt = pt.astype(int)\n",
    "    #     cv2.circle(img, tmp_pt, 5, (255, 255, 255), -1)\n",
    "    #     cv2.putText(img, str(idx), (tmp_pt[0], tmp_pt[1]+10), cv2.FONT_HERSHEY_SIMPLEX, 2, (255))\n",
    "    # plt.imshow(img)\n",
    "    # plt.show()\n",
    "    \n",
    "    H, mask = cv2.findHomography(points_printed, img_points, cv2.RANSAC)\n",
    "    R, T = calc_rot_and_trans(H, K)\n",
    "    return R, T, pos_cnts, neg_cnts"
   ]
  },
  {
   "cell_type": "code",
   "execution_count": 19,
   "id": "6708c367-3ebd-40e8-bebe-6a5acaf3511e",
   "metadata": {},
   "outputs": [
    {
     "name": "stdout",
     "output_type": "stream",
     "text": [
      "[[   0  118]\n",
      " [  45   61]\n",
      " [ -45   61]\n",
      " [ -22 -118]\n",
      " [  22 -118]]\n",
      "-------------\n",
      "[[   0  118]\n",
      " [  45   61]\n",
      " [  22 -118]\n",
      " [ -22 -118]\n",
      " [ -45   61]]\n"
     ]
    }
   ],
   "source": [
    "points_printed = np.loadtxt('../coords_of_arrow.txt', dtype=int)\n",
    "print(points_printed)\n",
    "print('-------------')\n",
    "points_printed = sort_pt_biggest_dist_center(points_printed, False, points_printed)\n",
    "print(points_printed)"
   ]
  },
  {
   "cell_type": "code",
   "execution_count": 20,
   "id": "916a014e-8ffe-4740-9f7a-cc3a7badede9",
   "metadata": {},
   "outputs": [
    {
     "data": {
      "text/plain": [
       "<matplotlib.image.AxesImage at 0x7f792f398560>"
      ]
     },
     "execution_count": 20,
     "metadata": {},
     "output_type": "execute_result"
    },
    {
     "data": {
      "image/png": "[encoded data removed]",
      "text/plain": [
       "<Figure size 640x480 with 1 Axes>"
      ]
     },
     "metadata": {},
     "output_type": "display_data"
    }
   ],
   "source": [
    "tmp = points_printed + (100, 200)\n",
    "tmp_img = np.zeros((400, 200))\n",
    "for idx, pt in enumerate(tmp):\n",
    "    cv2.circle(tmp_img, pt, 4, (255, 255, 255), -1)\n",
    "    cv2.putText(tmp_img, str(idx), (pt[0], pt[1]+10), cv2.FONT_HERSHEY_SIMPLEX, 2, (255, 255, 255))\n",
    "    \n",
    "plt.imshow(tmp_img)"
   ]
  },
  {
   "cell_type": "code",
   "execution_count": 21,
   "id": "2ca5d70c-f9f3-4ae8-96b4-2d469ae7b1a0",
   "metadata": {},
   "outputs": [
    {
     "name": "stdout",
     "output_type": "stream",
     "text": [
      "load model...\n"
     ]
    },
    {
     "name": "stderr",
     "output_type": "stream",
     "text": [
      "2025-01-31 15:02:58.735200: I tensorflow/core/platform/cpu_feature_guard.cc:210] This TensorFlow binary is optimized to use available CPU instructions in performance-critical operations.\n",
      "To enable the following instructions: SSE4.1 SSE4.2 AVX AVX2 FMA, in other operations, rebuild TensorFlow with the appropriate compiler flags.\n"
     ]
    },
    {
     "name": "stdout",
     "output_type": "stream",
     "text": [
      "loaded model\n"
     ]
    }
   ],
   "source": [
    "if not 'model' in dir():\n",
    "    print('load model...')\n",
    "    from keras.models import load_model\n",
    "    model = load_model('arrow_detection.keras')\n",
    "    print('loaded model')\n",
    "    \n",
    "else:\n",
    "    print('model already loaded')\n",
    "    \n",
    "model.trainable = False"
   ]
  },
  {
   "cell_type": "markdown",
   "id": "9239da82-9244-4366-8103-ae20eff1d1a2",
   "metadata": {},
   "source": [
    "## Camera test"
   ]
  },
  {
   "cell_type": "code",
   "execution_count": 22,
   "id": "2ec76569-5f8f-4321-80d6-61a92eaed7dd",
   "metadata": {},
   "outputs": [],
   "source": [
    "cam_nbr = 2\n",
    "WIDTH = 640\n",
    "HEIGHT = 480"
   ]
  },
  {
   "cell_type": "code",
   "execution_count": 34,
   "id": "784827a9-f13a-4cfd-a8c7-1131f484b05d",
   "metadata": {},
   "outputs": [
    {
     "name": "stdout",
     "output_type": "stream",
     "text": [
      "aborting\n",
      "done\n"
     ]
    }
   ],
   "source": [
    "# bufferless VideoCapture\n",
    "import traceback\n",
    "\n",
    "class VideoCapture:\n",
    "    def __init__(self, *args, **kwargs):\n",
    "        self.image = None\n",
    "        self.stopped = False\n",
    "        self.Q = Queue(maxsize=2)\n",
    "        self.cap = cv2.VideoCapture(*args, **kwargs)\n",
    "        self.lock = threading.Lock()\n",
    "        self.event = threading.Event()\n",
    "        self.t = threading.Thread(target=self._reader)\n",
    "        self.t.start()\n",
    "\n",
    "    def _reader(self):\n",
    "        while not self.event.is_set():\n",
    "            with self.lock:\n",
    "                if self.Q.full():\n",
    "                    _ = self.Q.get()  # remove value for new ones\n",
    "                    \n",
    "                ret, image = self.cap.read()\n",
    "                if not ret:\n",
    "                    self.cap.release()\n",
    "                    raise ValueError('could not get image from VideoCapture')\n",
    "                    \n",
    "                self.Q.put(image)\n",
    "\n",
    "    def read(self):\n",
    "        return True, self.Q.get()\n",
    "\n",
    "    def isOpened(self):\n",
    "        return self.cap.isOpened()\n",
    "\n",
    "    def set(self, *args):\n",
    "        with self.lock:\n",
    "            self.cap.set(*args)\n",
    "\n",
    "    def release(self):\n",
    "        self.event.set()\n",
    "        self.t.join()\n",
    "        self.cap.release()\n",
    "\n",
    "\n",
    "cap = VideoCapture(cam_nbr)\n",
    "\n",
    "if not cap.isOpened():\n",
    "    cap.release()\n",
    "    raise SystemExit(f'could not open camera at index {cam_nbr}')\n",
    "\n",
    "cap.set(cv2.CAP_PROP_FRAME_WIDTH, WIDTH)\n",
    "cap.set(cv2.CAP_PROP_FRAME_HEIGHT, HEIGHT)\n",
    "\n",
    "abort = False\n",
    "y_location = HEIGHT-10\n",
    "time_start = time()\n",
    "text = ''\n",
    "pos_cnts = ()\n",
    "neg_cnts = ()\n",
    "\n",
    "while not abort:\n",
    "    ret, img = cap.read()\n",
    "\n",
    "    time_now = time()\n",
    "    if (time_now - time_start) > 1:\n",
    "        time_start = time_now\n",
    "        try:\n",
    "            result = est_pos_in_img(img, model, points_printed)\n",
    "            if result is not None:\n",
    "                R, T, tmp0, tmp1 = result\n",
    "            else:\n",
    "                R = T = tmp0 = tmp1 = None\n",
    "            \n",
    "        except Exception as e:\n",
    "            print(traceback.format_exc())\n",
    "            import pdb\n",
    "            pdb.set_trace()\n",
    "            # print(result)\n",
    "            break\n",
    "\n",
    "        if tmp0 is not None:\n",
    "            pos_cnts = tmp0\n",
    "            neg_cnts = tmp1\n",
    "            \n",
    "        if R is not None: # T is not None, too\n",
    "            text = f'R:{np.array2string(R, precision=3, floatmode='fixed')}; T:{np.array2string(T, precision=3, floatmode='fixed')}'\n",
    "    \n",
    "    cv2.drawContours(img, pos_cnts, -1, (255,0,0), 2)\n",
    "    cv2.drawContours(img, neg_cnts, -1, (0,0,255), 2)\n",
    "    cv2.putText(img, text, (10, y_location), cv2.FONT_HERSHEY_SIMPLEX, 0.5, (230, 230, 0))        \n",
    "    cv2.imshow('camera test', img)\n",
    "    key = cv2.waitKey(25) & 0xFF\n",
    "    if key == 27 or key == 113:\n",
    "        print('aborting')\n",
    "        abort = True\n",
    "        break\n",
    "        \n",
    "cap.release()\n",
    "cv2.destroyAllWindows()\n",
    "print('done')        "
   ]
  },
  {
   "cell_type": "code",
   "execution_count": null,
   "id": "8aeaa6a7-b011-4280-a9c6-9b9f9008d6a2",
   "metadata": {},
   "outputs": [],
   "source": [
    "cap.release()"
   ]
  },
  {
   "cell_type": "code",
   "execution_count": null,
   "id": "5f83c303-965f-434e-a476-520f69511ead",
   "metadata": {},
   "outputs": [],
   "source": []
  }
 ],
 "metadata": {
  "kernelspec": {
   "display_name": "Python 3 (ipykernel)",
   "language": "python",
   "name": "python3"
  },
  "language_info": {
   "codemirror_mode": {
    "name": "ipython",
    "version": 3
   },
   "file_extension": ".py",
   "mimetype": "text/x-python",
   "name": "python",
   "nbconvert_exporter": "python",
   "pygments_lexer": "ipython3",
   "version": "3.12.2"
  }
 },
 "nbformat": 4,
 "nbformat_minor": 5
}
